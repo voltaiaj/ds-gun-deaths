{
 "cells": [
  {
   "cell_type": "code",
   "execution_count": 23,
   "metadata": {
    "collapsed": false
   },
   "outputs": [
    {
     "name": "stdout",
     "output_type": "stream",
     "text": [
      "['', 'year', 'month', 'intent', 'police', 'sex', 'age', 'race', 'hispanic', 'place', 'education']\n",
      "[['1', '2012', '01', 'Suicide', '0', 'M', '34', 'Asian/Pacific Islander', '100', 'Home', '4'], ['2', '2012', '01', 'Suicide', '0', 'F', '21', 'White', '100', 'Street', '3'], ['3', '2012', '01', 'Suicide', '0', 'M', '60', 'White', '100', 'Other specified', '4'], ['4', '2012', '02', 'Suicide', '0', 'M', '64', 'White', '100', 'Home', '4']]\n"
     ]
    }
   ],
   "source": [
    "import csv\n",
    "import datetime\n",
    "\n",
    "f = open(\"guns.csv\")\n",
    "data = list(csv.reader(f))\n",
    "headers = data[0]\n",
    "data = data[1:]\n",
    "\n",
    "def genericDictCount(collection):\n",
    "    result = {}\n",
    "    for key in collection:\n",
    "        if key in result:\n",
    "            result[key] += 1\n",
    "        else:\n",
    "            result[key] = 1\n",
    "    return result\n",
    "\n",
    "print(headers)\n",
    "print(data[:4])"
   ]
  },
  {
   "cell_type": "code",
   "execution_count": 24,
   "metadata": {
    "collapsed": false
   },
   "outputs": [
    {
     "name": "stdout",
     "output_type": "stream",
     "text": [
      "['2012', '2012', '2012', '2012', '2012']\n"
     ]
    }
   ],
   "source": [
    "years = [ row[1] for row in data]\n",
    "print(years[:5])"
   ]
  },
  {
   "cell_type": "code",
   "execution_count": 25,
   "metadata": {
    "collapsed": false
   },
   "outputs": [
    {
     "name": "stdout",
     "output_type": "stream",
     "text": [
      "{'2014': 33599, '2013': 33636, '2012': 33563}\n"
     ]
    }
   ],
   "source": [
    "year_counts = genericDictCount(years)\n",
    "print(year_counts)"
   ]
  },
  {
   "cell_type": "code",
   "execution_count": 26,
   "metadata": {
    "collapsed": false
   },
   "outputs": [
    {
     "name": "stdout",
     "output_type": "stream",
     "text": [
      "[datetime.datetime(2012, 1, 1, 0, 0), datetime.datetime(2012, 1, 1, 0, 0), datetime.datetime(2012, 1, 1, 0, 0), datetime.datetime(2012, 2, 1, 0, 0)]\n"
     ]
    }
   ],
   "source": [
    "dates = [datetime.datetime(year=int(row[1]), month=int(row[2]), day=1) for row in data]\n",
    "print(dates[:4])"
   ]
  },
  {
   "cell_type": "code",
   "execution_count": 27,
   "metadata": {
    "collapsed": false
   },
   "outputs": [
    {
     "name": "stdout",
     "output_type": "stream",
     "text": [
      "{datetime.datetime(2012, 8, 1, 0, 0): 2954, datetime.datetime(2013, 1, 1, 0, 0): 2864, datetime.datetime(2014, 11, 1, 0, 0): 2756, datetime.datetime(2012, 9, 1, 0, 0): 2852, datetime.datetime(2012, 2, 1, 0, 0): 2357, datetime.datetime(2013, 5, 1, 0, 0): 2806, datetime.datetime(2012, 5, 1, 0, 0): 2999, datetime.datetime(2012, 10, 1, 0, 0): 2733, datetime.datetime(2012, 6, 1, 0, 0): 2826, datetime.datetime(2013, 4, 1, 0, 0): 2798, datetime.datetime(2012, 12, 1, 0, 0): 2791, datetime.datetime(2013, 7, 1, 0, 0): 3079, datetime.datetime(2014, 3, 1, 0, 0): 2684, datetime.datetime(2013, 6, 1, 0, 0): 2920, datetime.datetime(2014, 5, 1, 0, 0): 2864, datetime.datetime(2014, 12, 1, 0, 0): 2857, datetime.datetime(2014, 7, 1, 0, 0): 2884, datetime.datetime(2012, 3, 1, 0, 0): 2743, datetime.datetime(2014, 2, 1, 0, 0): 2361, datetime.datetime(2013, 2, 1, 0, 0): 2375, datetime.datetime(2014, 1, 1, 0, 0): 2651, datetime.datetime(2013, 3, 1, 0, 0): 2862, datetime.datetime(2013, 11, 1, 0, 0): 2758, datetime.datetime(2014, 4, 1, 0, 0): 2862, datetime.datetime(2014, 6, 1, 0, 0): 2931, datetime.datetime(2013, 8, 1, 0, 0): 2859, datetime.datetime(2014, 10, 1, 0, 0): 2865, datetime.datetime(2012, 7, 1, 0, 0): 3026, datetime.datetime(2014, 9, 1, 0, 0): 2914, datetime.datetime(2014, 8, 1, 0, 0): 2970, datetime.datetime(2012, 11, 1, 0, 0): 2729, datetime.datetime(2012, 4, 1, 0, 0): 2795, datetime.datetime(2013, 10, 1, 0, 0): 2808, datetime.datetime(2013, 9, 1, 0, 0): 2742, datetime.datetime(2012, 1, 1, 0, 0): 2758, datetime.datetime(2013, 12, 1, 0, 0): 2765}\n"
     ]
    }
   ],
   "source": [
    "date_counts = genericDictCount(dates)\n",
    "print(date_counts)"
   ]
  },
  {
   "cell_type": "code",
   "execution_count": 28,
   "metadata": {
    "collapsed": false
   },
   "outputs": [
    {
     "name": "stdout",
     "output_type": "stream",
     "text": [
      "{'M': 86349, 'F': 14449}\n"
     ]
    }
   ],
   "source": [
    "sex = [ row[5] for row in data ]\n",
    "sex_counts = genericDictCount(sex)\n",
    "print(sex_counts)"
   ]
  },
  {
   "cell_type": "code",
   "execution_count": 29,
   "metadata": {
    "collapsed": false,
    "scrolled": true
   },
   "outputs": [
    {
     "name": "stdout",
     "output_type": "stream",
     "text": [
      "{'White': 66237, 'Native American/Native Alaskan': 917, 'Asian/Pacific Islander': 1326, 'Black': 23296, 'Hispanic': 9022}\n"
     ]
    }
   ],
   "source": [
    "race = [row[7] for row in data ]\n",
    "race_counts = genericDictCount(race)\n",
    "print(race_counts)"
   ]
  },
  {
   "cell_type": "markdown",
   "metadata": {},
   "source": [
    "I have become comfortable using list comprehensions, and have refactored the code to utilize a generic method for figuring out dicitonary counts to reduce the lines of code."
   ]
  },
  {
   "cell_type": "code",
   "execution_count": 30,
   "metadata": {
    "collapsed": false
   },
   "outputs": [
    {
     "name": "stdout",
     "output_type": "stream",
     "text": [
      "[['Id', 'Year', 'Id', 'Sex', 'Id', 'Hispanic Origin', 'Id', 'Id2', 'Geography', 'Total', 'Race Alone - White', 'Race Alone - Hispanic', 'Race Alone - Black or African American', 'Race Alone - American Indian and Alaska Native', 'Race Alone - Asian', 'Race Alone - Native Hawaiian and Other Pacific Islander', 'Two or More Races'], ['cen42010', 'April 1, 2010 Census', 'totsex', 'Both Sexes', 'tothisp', 'Total', '0100000US', '', 'United States', '308745538', '197318956', '44618105', '40250635', '3739506', '15159516', '674625', '6984195']]\n"
     ]
    }
   ],
   "source": [
    "census = list(csv.reader(open('census.csv')))\n",
    "\n",
    "print(census)"
   ]
  },
  {
   "cell_type": "code",
   "execution_count": 31,
   "metadata": {
    "collapsed": false
   },
   "outputs": [
    {
     "name": "stdout",
     "output_type": "stream",
     "text": [
      "['Asian/Pacific Islander', 'Black', 'Hispanic', 'Native American/Native Alaskan', 'White']\n",
      "[15834141, 40250635, 44618105, 3739506, 197318956]\n",
      "{'Hispanic': 44618105, 'Black': 40250635, 'Asian/Pacific Islander': 15834141, 'Native American/Native Alaskan': 3739506, 'White': 197318956}\n"
     ]
    }
   ],
   "source": [
    "raceKeys = ['Asian/Pacific Islander','Black','Hispanic','Native American/Native Alaskan','White']\n",
    "raceValues = [int(census[1][14]) + int(census[1][15]), int(census[1][12]), int(census[1][11]), int(census[1][13]), int(census[1][10])]\n",
    "mapping = dict(zip(raceKeys,raceValues))\n",
    "print(raceKeys)\n",
    "print(raceValues)\n",
    "print(mapping)"
   ]
  },
  {
   "cell_type": "code",
   "execution_count": 32,
   "metadata": {
    "collapsed": false
   },
   "outputs": [
    {
     "name": "stdout",
     "output_type": "stream",
     "text": [
      "{'White': 33.56849303419181, 'Native American/Native Alaskan': 24.521955573811088, 'Asian/Pacific Islander': 8.374309664161762, 'Black': 57.8773477735196, 'Hispanic': 20.220491210910907}\n"
     ]
    }
   ],
   "source": [
    "race_per_hundredk = {}\n",
    "for k,v in race_counts.items():\n",
    "    race_per_hundredk[k] = v / mapping[k] * 100000\n",
    "print(race_per_hundredk)"
   ]
  },
  {
   "cell_type": "code",
   "execution_count": 33,
   "metadata": {
    "collapsed": false
   },
   "outputs": [
    {
     "name": "stdout",
     "output_type": "stream",
     "text": [
      "{'White': 9147, 'Black': 19510, 'Asian/Pacific Islander': 559, 'Native American/Native Alaskan': 326, 'Hispanic': 5634}\n"
     ]
    }
   ],
   "source": [
    "intents = [ row[3] for row in data ]\n",
    "races = race\n",
    "\n",
    "homicide_race_counts = {}\n",
    "\n",
    "for i,v in enumerate(races):\n",
    "    if intents[i] == 'Homicide':\n",
    "        if v in homicide_race_counts:\n",
    "            homicide_race_counts[v] += 1\n",
    "        else:\n",
    "            homicide_race_counts[v] = 1\n",
    "print(homicide_race_counts)"
   ]
  },
  {
   "cell_type": "code",
   "execution_count": 36,
   "metadata": {
    "collapsed": false
   },
   "outputs": [
    {
     "name": "stdout",
     "output_type": "stream",
     "text": [
      "{'White': 4.6356417981453335, 'Black': 48.471284987180944, 'Asian/Pacific Islander': 3.530346230970155, 'Native American/Native Alaskan': 8.717729026240365, 'Hispanic': 12.627161104219914}\n"
     ]
    }
   ],
   "source": [
    "for k,v in mapping.items():\n",
    "    homicide_race_counts[k] = homicide_race_counts[k] / v * 100000\n",
    "print(homicide_race_counts)"
   ]
  },
  {
   "cell_type": "markdown",
   "metadata": {},
   "source": [
    "Findings: The rates of Gun Deaths broken down by race only told part of the story. Once looking at homicide rates broken out by the races, it confirms an all to familiar story about gun violence in the US. Blacks are nearly four times more likey to be killed than Hispanics by guns and "
   ]
  }
 ],
 "metadata": {
  "kernelspec": {
   "display_name": "Python 3",
   "language": "python",
   "name": "python3"
  },
  "language_info": {
   "codemirror_mode": {
    "name": "ipython",
    "version": 3
   },
   "file_extension": ".py",
   "mimetype": "text/x-python",
   "name": "python",
   "nbconvert_exporter": "python",
   "pygments_lexer": "ipython3",
   "version": "3.4.3"
  }
 },
 "nbformat": 4,
 "nbformat_minor": 0
}
